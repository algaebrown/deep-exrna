{
 "cells": [
  {
   "cell_type": "code",
   "execution_count": 1,
   "metadata": {},
   "outputs": [],
   "source": [
    "# import data\n",
    "import pandas as pd\n",
    "from os import path\n",
    "indir = '/cellar/users/hsher/course_project_2020/data'\n",
    "rna = pd.read_csv(path.join(indir, 'tpm_96_nodup.tsv'), sep = '\\t', index_col = 0) \n",
    "rna = rna.loc[rna.sum(axis = 1)!=0] # remove RNA expression = 0 for all patients\n",
    "pt = pd.read_csv(path.join(indir, 'patient_info.csv'), index_col = 0)"
   ]
  },
  {
   "cell_type": "code",
   "execution_count": 2,
   "metadata": {},
   "outputs": [
    {
     "data": {
      "text/plain": [
       "(56472, 96)"
      ]
     },
     "execution_count": 2,
     "metadata": {},
     "output_type": "execute_result"
    }
   ],
   "source": [
    "rna.shape"
   ]
  },
  {
   "cell_type": "markdown",
   "metadata": {},
   "source": [
    "# Statistical test for first round of feature selection\n",
    "else ~60000 genes is too much"
   ]
  },
  {
   "cell_type": "code",
   "execution_count": 3,
   "metadata": {},
   "outputs": [],
   "source": [
    "recur_rna = rna[pt.loc[pt['recurStatus'] == 'R'].index]\n",
    "norecur_rna = rna[pt.loc[pt['recurStatus'] == 'N'].index]\n",
    "from scipy.stats import mannwhitneyu\n",
    "\n",
    "stat = pd.DataFrame(index = rna.index, columns = ['stat', 'p'])\n",
    "\n",
    "for gene in rna.index:\n",
    "    s, p = mannwhitneyu(recur_rna.loc[gene], norecur_rna.loc[gene])\n",
    "    stat.loc[gene] = [s,p]"
   ]
  },
  {
   "cell_type": "code",
   "execution_count": 4,
   "metadata": {},
   "outputs": [
    {
     "data": {
      "text/html": [
       "<div>\n",
       "<style scoped>\n",
       "    .dataframe tbody tr th:only-of-type {\n",
       "        vertical-align: middle;\n",
       "    }\n",
       "\n",
       "    .dataframe tbody tr th {\n",
       "        vertical-align: top;\n",
       "    }\n",
       "\n",
       "    .dataframe thead th {\n",
       "        text-align: right;\n",
       "    }\n",
       "</style>\n",
       "<table border=\"1\" class=\"dataframe\">\n",
       "  <thead>\n",
       "    <tr style=\"text-align: right;\">\n",
       "      <th></th>\n",
       "      <th>stat</th>\n",
       "      <th>p</th>\n",
       "    </tr>\n",
       "    <tr>\n",
       "      <th>gene_id</th>\n",
       "      <th></th>\n",
       "      <th></th>\n",
       "    </tr>\n",
       "  </thead>\n",
       "  <tbody>\n",
       "    <tr>\n",
       "      <th>ENSG00000212694</th>\n",
       "      <td>474.5</td>\n",
       "      <td>1.38014e-05</td>\n",
       "    </tr>\n",
       "    <tr>\n",
       "      <th>ENSG00000172201</th>\n",
       "      <td>440</td>\n",
       "      <td>1.6768e-05</td>\n",
       "    </tr>\n",
       "    <tr>\n",
       "      <th>ENSG00000279198</th>\n",
       "      <td>462</td>\n",
       "      <td>2.80918e-05</td>\n",
       "    </tr>\n",
       "    <tr>\n",
       "      <th>ENSG00000259657</th>\n",
       "      <td>632.5</td>\n",
       "      <td>3.72484e-05</td>\n",
       "    </tr>\n",
       "    <tr>\n",
       "      <th>ENSG00000243260</th>\n",
       "      <td>579.5</td>\n",
       "      <td>4.01381e-05</td>\n",
       "    </tr>\n",
       "    <tr>\n",
       "      <th>...</th>\n",
       "      <td>...</td>\n",
       "      <td>...</td>\n",
       "    </tr>\n",
       "    <tr>\n",
       "      <th>ENSG00000218049</th>\n",
       "      <td>782</td>\n",
       "      <td>0.0499595</td>\n",
       "    </tr>\n",
       "    <tr>\n",
       "      <th>ENSG00000264242</th>\n",
       "      <td>782</td>\n",
       "      <td>0.0499595</td>\n",
       "    </tr>\n",
       "    <tr>\n",
       "      <th>ENSG00000260352</th>\n",
       "      <td>782</td>\n",
       "      <td>0.0499595</td>\n",
       "    </tr>\n",
       "    <tr>\n",
       "      <th>ENSG00000272720</th>\n",
       "      <td>752</td>\n",
       "      <td>0.0499817</td>\n",
       "    </tr>\n",
       "    <tr>\n",
       "      <th>ENSG00000250300</th>\n",
       "      <td>757.5</td>\n",
       "      <td>0.0499923</td>\n",
       "    </tr>\n",
       "  </tbody>\n",
       "</table>\n",
       "<p>6272 rows × 2 columns</p>\n",
       "</div>"
      ],
      "text/plain": [
       "                  stat            p\n",
       "gene_id                            \n",
       "ENSG00000212694  474.5  1.38014e-05\n",
       "ENSG00000172201    440   1.6768e-05\n",
       "ENSG00000279198    462  2.80918e-05\n",
       "ENSG00000259657  632.5  3.72484e-05\n",
       "ENSG00000243260  579.5  4.01381e-05\n",
       "...                ...          ...\n",
       "ENSG00000218049    782    0.0499595\n",
       "ENSG00000264242    782    0.0499595\n",
       "ENSG00000260352    782    0.0499595\n",
       "ENSG00000272720    752    0.0499817\n",
       "ENSG00000250300  757.5    0.0499923\n",
       "\n",
       "[6272 rows x 2 columns]"
      ]
     },
     "execution_count": 4,
     "metadata": {},
     "output_type": "execute_result"
    }
   ],
   "source": [
    "stat.loc[stat['p']<0.05].sort_values(by = 'p')"
   ]
  },
  {
   "cell_type": "code",
   "execution_count": 5,
   "metadata": {},
   "outputs": [],
   "source": [
    "selected_feature = stat.loc[stat['p']<0.05].sort_values(by = 'p').index[:3000]"
   ]
  },
  {
   "cell_type": "markdown",
   "metadata": {},
   "source": [
    "# Tune neural network hidden layer size"
   ]
  },
  {
   "cell_type": "code",
   "execution_count": 6,
   "metadata": {},
   "outputs": [],
   "source": [
    "#selected_feature = rna.loc[rna.std(axis = 1)>100].index"
   ]
  },
  {
   "cell_type": "code",
   "execution_count": 7,
   "metadata": {},
   "outputs": [],
   "source": [
    "X = rna.loc[selected_feature].values\n",
    "#X = rna.values\n",
    "y = pt.loc[rna.columns, 'recurStatus'].map({'N': 0, 'R': 1}).values"
   ]
  },
  {
   "cell_type": "code",
   "execution_count": 8,
   "metadata": {},
   "outputs": [
    {
     "data": {
      "text/plain": [
       "(3000, 96)"
      ]
     },
     "execution_count": 8,
     "metadata": {},
     "output_type": "execute_result"
    }
   ],
   "source": [
    "X.shape"
   ]
  },
  {
   "cell_type": "code",
   "execution_count": 9,
   "metadata": {},
   "outputs": [
    {
     "data": {
      "text/plain": [
       "(96,)"
      ]
     },
     "execution_count": 9,
     "metadata": {},
     "output_type": "execute_result"
    }
   ],
   "source": [
    "y.shape"
   ]
  },
  {
   "cell_type": "code",
   "execution_count": 10,
   "metadata": {},
   "outputs": [],
   "source": [
    "# train test split\n",
    "from sklearn.model_selection import train_test_split\n",
    "X_train, X_test, y_train, y_test = train_test_split(X.T, y, test_size=0.2, random_state=None)"
   ]
  },
  {
   "cell_type": "code",
   "execution_count": 11,
   "metadata": {},
   "outputs": [
    {
     "data": {
      "text/plain": [
       "(76, 3000)"
      ]
     },
     "execution_count": 11,
     "metadata": {},
     "output_type": "execute_result"
    }
   ],
   "source": [
    "X_train.shape"
   ]
  },
  {
   "cell_type": "code",
   "execution_count": 12,
   "metadata": {},
   "outputs": [
    {
     "data": {
      "text/plain": [
       "(20, 3000)"
      ]
     },
     "execution_count": 12,
     "metadata": {},
     "output_type": "execute_result"
    }
   ],
   "source": [
    "X_test.shape"
   ]
  },
  {
   "cell_type": "code",
   "execution_count": 13,
   "metadata": {},
   "outputs": [
    {
     "data": {
      "text/plain": [
       "6"
      ]
     },
     "execution_count": 13,
     "metadata": {},
     "output_type": "execute_result"
    }
   ],
   "source": [
    "y_test.sum()"
   ]
  },
  {
   "cell_type": "markdown",
   "metadata": {},
   "source": [
    "# select number of layers\n",
    "from sklearn.neural_network import MLPClassifier\n",
    "from sklearn.model_selection import cross_val_score\n",
    "from sklearn.metrics import accuracy_score\n",
    "import numpy as np\n",
    "def model_evaluation(layer = (5, 9,8,4), n_iter = 50):\n",
    "    accuracy = []\n",
    "    cvs = []\n",
    "    for i in range(n_iter):\n",
    "        X_train, X_test, y_train, y_test = train_test_split(X.T, y, test_size=0.2, random_state=None)\n",
    "\n",
    "        clf = MLPClassifier(solver='lbfgs', alpha=1e-5,\n",
    "                    hidden_layer_sizes=layer, random_state=None, early_stopping = True, max_iter = 300)\n",
    "\n",
    "\n",
    "        clf.fit(X_train, y_train)\n",
    "        cv = cross_val_score(clf, X_train, y_train, cv=10, scoring='recall_macro')\n",
    "        y_test_hat = clf.predict(X_test)\n",
    "        acc = accuracy_score(y_test, y_test_hat)\n",
    "        \n",
    "        accuracy.append(acc)\n",
    "        cvs.append([cv.mean(), cv.std()])\n",
    "    return accuracy, cvs"
   ]
  },
  {
   "cell_type": "markdown",
   "metadata": {},
   "source": [
    "layer  = [(10,10,10,10,10,10,10,10), (10,10,10,10,10,10,10,10,10),(10,10,10,10,10,10,10,10,10,10),(10,10,10,10,10,10,10,10,10,10,10), (10,10,10,10,10,10,10,10,10,10,10,10)]\n",
    "df = pd.DataFrame(index = [str(l) for l in layer], columns = ['acc_mean', 'acc_std', 'cv_mean', 'cv_std'])\n",
    "for l in layer:\n",
    "    acc, cvs = model_evaluation(layer = l)\n",
    "    acc_mean = np.mean(acc)\n",
    "    acc_std = np.std(acc)\n",
    "    cv_mean = np.mean([c[0] for c in cvs])\n",
    "    cv_std = np.std([c[0] for c in cvs])\n",
    "    df.loc[str(l)] = [acc_mean, acc_std, cv_mean, cv_std]"
   ]
  },
  {
   "cell_type": "markdown",
   "metadata": {},
   "source": [
    "df"
   ]
  },
  {
   "cell_type": "markdown",
   "metadata": {},
   "source": [
    "# Migrate to keras and do explainable deep learning\n",
    "https://www.machinecurve.com/index.php/2019/11/25/visualizing-keras-cnn-attention-saliency-maps/"
   ]
  },
  {
   "cell_type": "code",
   "execution_count": 14,
   "metadata": {},
   "outputs": [
    {
     "name": "stderr",
     "output_type": "stream",
     "text": [
      "Using TensorFlow backend.\n"
     ]
    },
    {
     "name": "stdout",
     "output_type": "stream",
     "text": [
      "Epoch 01155: early stopping\n",
      "Test loss: 1.267240285873413 / Test accuracy: 0.800000011920929\n"
     ]
    }
   ],
   "source": [
    "from math import ceil\n",
    "# build keras model: \n",
    "no_classes = 2\n",
    "from keras.models import Sequential\n",
    "from keras.layers import Dense\n",
    "from keras import backend as K\n",
    "import keras\n",
    "from keras.callbacks import EarlyStopping\n",
    "from keras.regularizers import l1\n",
    "\n",
    "y_train_class = keras.utils.to_categorical(y_train, no_classes)\n",
    "y_test_class = keras.utils.to_categorical(y_test, no_classes)\n",
    "\n",
    "\n",
    "model = Sequential()\n",
    "model.add(Dense(10, input_dim=X.shape[0], activation='relu',kernel_regularizer=l1(0.005)))\n",
    "model.add(Dense(10, activation='relu',kernel_regularizer=l1(0.005)))\n",
    "#model.add(Dense(10, activation='relu',kernel_regularizer=l1(0.001)))\n",
    "# add saliency map layer\n",
    "model.add(Dense(no_classes, activation='softmax', name='saliency_map'))\n",
    "\n",
    "\n",
    "batch_size = X_train.shape[1]\n",
    "no_epochs = 10000\n",
    "validation_split = 0.2\n",
    "verbosity = 1\n",
    "\n",
    "# use early stopping\n",
    "es = EarlyStopping(monitor='val_loss', mode='min', verbose=1, patience=500)\n",
    "\n",
    "\n",
    "\n",
    "model.compile(loss='binary_crossentropy',\n",
    "              optimizer=keras.optimizers.Adam(),\n",
    "              metrics=['accuracy'])\n",
    "history = model.fit(X_train, y_train_class,\n",
    "          batch_size=ceil(batch_size/3),\n",
    "          epochs=no_epochs,\n",
    "          verbose=0,\n",
    "          validation_split=validation_split,\n",
    "            callbacks=[es])\n",
    "score = model.evaluate(X_test, y_test_class, verbose=0)\n",
    "print(f'Test loss: {score[0]} / Test accuracy: {score[1]}')"
   ]
  },
  {
   "cell_type": "code",
   "execution_count": 15,
   "metadata": {},
   "outputs": [
    {
     "data": {
      "image/png": "[encoded data removed]",
      "text/plain": [
       "<Figure size 432x288 with 1 Axes>"
      ]
     },
     "metadata": {
      "needs_background": "light"
     },
     "output_type": "display_data"
    },
    {
     "data": {
      "image/png": "[encoded data removed]",
      "text/plain": [
       "<Figure size 432x288 with 1 Axes>"
      ]
     },
     "metadata": {
      "needs_background": "light"
     },
     "output_type": "display_data"
    }
   ],
   "source": [
    "import matplotlib.pyplot as plt\n",
    "%matplotlib inline\n",
    "# summarize history for accuracy\n",
    "plt.plot(history.history['accuracy'])\n",
    "plt.plot(history.history['val_accuracy'])\n",
    "plt.title('model accuracy')\n",
    "plt.ylabel('accuracy')\n",
    "plt.xlabel('epoch')\n",
    "plt.legend(['train', 'test'], loc='upper left')\n",
    "plt.show()\n",
    "# summarize history for loss\n",
    "plt.plot(history.history['loss'])\n",
    "plt.plot(history.history['val_loss'])\n",
    "plt.title('model loss')\n",
    "plt.ylabel('loss')\n",
    "plt.xlabel('epoch')\n",
    "plt.legend(['train', 'test'], loc='upper left')\n",
    "plt.show()"
   ]
  },
  {
   "cell_type": "code",
   "execution_count": 16,
   "metadata": {},
   "outputs": [],
   "source": [
    "# find layer\n",
    "from vis.visualization import visualize_saliency\n",
    "from vis.utils import utils\n",
    "from keras import activations\n",
    "\n",
    "import numpy as np\n",
    "\n",
    "# Find the index of the to be visualized layer above\n",
    "layer_index = utils.find_layer_idx(model, 'saliency_map')\n",
    "\n",
    "# Swap softmax with linear: compute how the output changes with respect to a change in input. \n",
    "model.layers[layer_index].activation = activations.linear\n",
    "model = utils.apply_modifications(model)  \n",
    "\n",
    "indices_to_visualize = np.where(y_test == 1)[0]\n",
    "indices_to_visualize.tolist()\n",
    "\n",
    "# Visualize\n",
    "all_vis = []\n",
    "for index_to_visualize in indices_to_visualize:\n",
    "    # Get input\n",
    "    input_image = X_test[index_to_visualize]\n",
    "    input_class = np.argmax(y_test_class[index_to_visualize])\n",
    "    \n",
    "    visualization = visualize_saliency(model, layer_index, filter_indices=input_class, seed_input=input_image,grad_modifier='relu',keepdims=True)\n",
    "    \n",
    "    all_vis.append(visualization)"
   ]
  },
  {
   "cell_type": "code",
   "execution_count": 17,
   "metadata": {},
   "outputs": [
    {
     "name": "stderr",
     "output_type": "stream",
     "text": [
      "/cellar/users/hsher/miniconda3/envs/exrna/lib/python3.7/site-packages/seaborn/matrix.py:649: UserWarning: Clustering large matrix with scipy. Installing `fastcluster` may give better performance.\n",
      "  warnings.warn(msg)\n"
     ]
    },
    {
     "data": {
      "text/plain": [
       "<seaborn.matrix.ClusterGrid at 0x7fde741e8450>"
      ]
     },
     "execution_count": 17,
     "metadata": {},
     "output_type": "execute_result"
    },
    {
     "data": {
      "image/png": "[encoded data removed]",
      "text/plain": [
       "<Figure size 720x720 with 4 Axes>"
      ]
     },
     "metadata": {
      "needs_background": "light"
     },
     "output_type": "display_data"
    }
   ],
   "source": [
    "import seaborn as sns\n",
    "indv_saliency = pd.DataFrame(np.stack(all_vis), columns = selected_feature, index = indices_to_visualize)\n",
    "sns.clustermap(indv_saliency)"
   ]
  },
  {
   "cell_type": "markdown",
   "metadata": {},
   "source": [
    "# What is the neural network looking at\n",
    "\n",
    "- which gene-->\n",
    "- expression\n",
    "- logscale color"
   ]
  },
  {
   "cell_type": "code",
   "execution_count": 40,
   "metadata": {},
   "outputs": [
    {
     "name": "stdout",
     "output_type": "stream",
     "text": [
      "querying 1-1000...done.\n",
      "querying 1001-2000...done.\n",
      "querying 2001-3000...done.\n",
      "Finished.\n"
     ]
    },
    {
     "name": "stderr",
     "output_type": "stream",
     "text": [
      "/cellar/users/hsher/miniconda3/envs/exrna/lib/python3.7/site-packages/biothings_client/base.py:143: FutureWarning: pandas.io.json.json_normalize is deprecated, use pandas.json_normalize instead\n",
      "  df = json_normalize(obj)\n"
     ]
    },
    {
     "name": "stdout",
     "output_type": "stream",
     "text": [
      "136 input query terms found no hit:\n",
      "\t['ENSG00000266825', 'ENSG00000281239', 'ENSG00000273009', 'ENSG00000254667', 'ENSG00000266259', 'ENS\n",
      "Pass \"returnall=True\" to return complete lists of duplicate or missing query terms.\n"
     ]
    }
   ],
   "source": [
    "# id converter\n",
    "import mygene\n",
    "mg = mygene.MyGeneInfo()\n",
    "id_converter = mg.querymany(selected_feature, scopes='ensemblgene', fields = ['symbol','ensembl.transcript'], as_dataframe =True)"
   ]
  },
  {
   "cell_type": "code",
   "execution_count": 44,
   "metadata": {},
   "outputs": [
    {
     "data": {
      "text/plain": [
       "False"
      ]
     },
     "execution_count": 44,
     "metadata": {},
     "output_type": "execute_result"
    }
   ],
   "source": []
  },
  {
   "cell_type": "code",
   "execution_count": 19,
   "metadata": {},
   "outputs": [],
   "source": [
    "import gseapy as gp\n",
    "def gsea_on_vis(vis, id_converter = id_converter, gene_sets=['KEGG_2016','KEGG_2013']):\n",
    "    gene_rank = vis.rank(ascending = False).sort_values(ascending = True)\n",
    "    gene_list = id_converter.loc[gene_rank.index, 'symbol'].dropna().tolist()\n",
    "    #print(gene_list)\n",
    "    enr = gp.enrichr(gene_list=gene_list,\n",
    "                 gene_sets=gene_sets,\n",
    "                 organism='Human', # don't forget to set organism to the one you desired! e.g. Yeast\n",
    "                 description='test_name',\n",
    "                 outdir='test/enrichr_kegg',\n",
    "                 # no_plot=True,\n",
    "                 cutoff=0.5 # test dataset, use lower value from range(0,1)\n",
    "                )\n",
    "    return enr"
   ]
  },
  {
   "cell_type": "code",
   "execution_count": 20,
   "metadata": {},
   "outputs": [
    {
     "name": "stderr",
     "output_type": "stream",
     "text": [
      "2020-05-27 13:56:05,465 Warning: No enrich terms using library KEGG_2016 when cutoff = 0.5\n",
      "2020-05-27 13:56:10,962 Warning: No enrich terms using library KEGG_2013 when cutoff = 0.5\n"
     ]
    }
   ],
   "source": [
    "e = gsea_on_vis(indv_saliency.loc[16])"
   ]
  },
  {
   "cell_type": "code",
   "execution_count": 25,
   "metadata": {},
   "outputs": [
    {
     "data": {
      "text/html": [
       "<div>\n",
       "<style scoped>\n",
       "    .dataframe tbody tr th:only-of-type {\n",
       "        vertical-align: middle;\n",
       "    }\n",
       "\n",
       "    .dataframe tbody tr th {\n",
       "        vertical-align: top;\n",
       "    }\n",
       "\n",
       "    .dataframe thead th {\n",
       "        text-align: right;\n",
       "    }\n",
       "</style>\n",
       "<table border=\"1\" class=\"dataframe\">\n",
       "  <thead>\n",
       "    <tr style=\"text-align: right;\">\n",
       "      <th></th>\n",
       "      <th>Gene_set</th>\n",
       "      <th>Term</th>\n",
       "      <th>Overlap</th>\n",
       "      <th>P-value</th>\n",
       "      <th>Adjusted P-value</th>\n",
       "      <th>Old P-value</th>\n",
       "      <th>Old Adjusted P-value</th>\n",
       "      <th>Odds Ratio</th>\n",
       "      <th>Combined Score</th>\n",
       "      <th>Genes</th>\n",
       "    </tr>\n",
       "  </thead>\n",
       "  <tbody>\n",
       "    <tr>\n",
       "      <th>0</th>\n",
       "      <td>KEGG_2016</td>\n",
       "      <td>N-Glycan biosynthesis Homo sapiens hsa00510</td>\n",
       "      <td>9/49</td>\n",
       "      <td>0.262328</td>\n",
       "      <td>1.0</td>\n",
       "      <td>0</td>\n",
       "      <td>0</td>\n",
       "      <td>1.282636</td>\n",
       "      <td>1.716372</td>\n",
       "      <td>ALG8;GANAB;B4GALT1;MAN1A2;MGAT5B;ALG2;ALG3;DOL...</td>\n",
       "    </tr>\n",
       "    <tr>\n",
       "      <th>1</th>\n",
       "      <td>KEGG_2016</td>\n",
       "      <td>Type I diabetes mellitus Homo sapiens hsa04940</td>\n",
       "      <td>8/43</td>\n",
       "      <td>0.267992</td>\n",
       "      <td>1.0</td>\n",
       "      <td>0</td>\n",
       "      <td>0</td>\n",
       "      <td>1.299207</td>\n",
       "      <td>1.710792</td>\n",
       "      <td>ICA1;GAD2;FASLG;HLA-F;HLA-G;HLA-DQA1;HSPD1;HLA...</td>\n",
       "    </tr>\n",
       "    <tr>\n",
       "      <th>2</th>\n",
       "      <td>KEGG_2016</td>\n",
       "      <td>Cell cycle Homo sapiens hsa04110</td>\n",
       "      <td>20/124</td>\n",
       "      <td>0.318387</td>\n",
       "      <td>1.0</td>\n",
       "      <td>0</td>\n",
       "      <td>0</td>\n",
       "      <td>1.126329</td>\n",
       "      <td>1.289069</td>\n",
       "      <td>RB1;GSK3B;CDKN1B;PCNA;GADD45B;MCM7;PRKDC;GADD4...</td>\n",
       "    </tr>\n",
       "    <tr>\n",
       "      <th>3</th>\n",
       "      <td>KEGG_2016</td>\n",
       "      <td>Homologous recombination Homo sapiens hsa03440</td>\n",
       "      <td>5/29</td>\n",
       "      <td>0.403004</td>\n",
       "      <td>1.0</td>\n",
       "      <td>0</td>\n",
       "      <td>0</td>\n",
       "      <td>1.204007</td>\n",
       "      <td>1.094211</td>\n",
       "      <td>MUS81;RAD51B;POLD1;TOP3A;RAD54L</td>\n",
       "    </tr>\n",
       "    <tr>\n",
       "      <th>4</th>\n",
       "      <td>KEGG_2016</td>\n",
       "      <td>Fructose and mannose metabolism Homo sapiens h...</td>\n",
       "      <td>5/32</td>\n",
       "      <td>0.491962</td>\n",
       "      <td>1.0</td>\n",
       "      <td>0</td>\n",
       "      <td>0</td>\n",
       "      <td>1.091131</td>\n",
       "      <td>0.773997</td>\n",
       "      <td>PFKFB3;PMM2;ALDOC;ALDOB;HK1</td>\n",
       "    </tr>\n",
       "    <tr>\n",
       "      <th>...</th>\n",
       "      <td>...</td>\n",
       "      <td>...</td>\n",
       "      <td>...</td>\n",
       "      <td>...</td>\n",
       "      <td>...</td>\n",
       "      <td>...</td>\n",
       "      <td>...</td>\n",
       "      <td>...</td>\n",
       "      <td>...</td>\n",
       "      <td>...</td>\n",
       "    </tr>\n",
       "    <tr>\n",
       "      <th>428</th>\n",
       "      <td>KEGG_2013</td>\n",
       "      <td>HSA04010 MAPK SIGNALING PATHWAY</td>\n",
       "      <td>16/257</td>\n",
       "      <td>0.999983</td>\n",
       "      <td>1.0</td>\n",
       "      <td>0</td>\n",
       "      <td>0</td>\n",
       "      <td>0.434754</td>\n",
       "      <td>0.000008</td>\n",
       "      <td>MAP3K2;MAP2K3;ATF2;GADD45B;GADD45A;FASLG;DUSP8...</td>\n",
       "    </tr>\n",
       "    <tr>\n",
       "      <th>429</th>\n",
       "      <td>KEGG_2013</td>\n",
       "      <td>HSA04630 JAK STAT SIGNALING PATHWAY</td>\n",
       "      <td>6/153</td>\n",
       "      <td>0.999990</td>\n",
       "      <td>1.0</td>\n",
       "      <td>0</td>\n",
       "      <td>0</td>\n",
       "      <td>0.273853</td>\n",
       "      <td>0.000003</td>\n",
       "      <td>IFNAR2;IFNGR1;SPRY3;EP300;PIK3CB;TYK2</td>\n",
       "    </tr>\n",
       "    <tr>\n",
       "      <th>430</th>\n",
       "      <td>KEGG_2013</td>\n",
       "      <td>HSA04530 TIGHT JUNCTION</td>\n",
       "      <td>4/136</td>\n",
       "      <td>0.999994</td>\n",
       "      <td>1.0</td>\n",
       "      <td>0</td>\n",
       "      <td>0</td>\n",
       "      <td>0.205389</td>\n",
       "      <td>0.000001</td>\n",
       "      <td>CSNK2A1;CTNNA1;F11R;JAM3</td>\n",
       "    </tr>\n",
       "    <tr>\n",
       "      <th>431</th>\n",
       "      <td>KEGG_2013</td>\n",
       "      <td>HSA04060 CYTOKINE CYTOKINE RECEPTOR INTERACTION</td>\n",
       "      <td>13/257</td>\n",
       "      <td>0.999995</td>\n",
       "      <td>1.0</td>\n",
       "      <td>0</td>\n",
       "      <td>0</td>\n",
       "      <td>0.353238</td>\n",
       "      <td>0.000002</td>\n",
       "      <td>IFNAR2;IFNGR1;HGF;TNFRSF9;TNFRSF10A;FASLG;CX3C...</td>\n",
       "    </tr>\n",
       "    <tr>\n",
       "      <th>432</th>\n",
       "      <td>KEGG_2013</td>\n",
       "      <td>HSA04080 NEUROACTIVE LIGAND RECEPTOR INTERACTION</td>\n",
       "      <td>12/254</td>\n",
       "      <td>0.999995</td>\n",
       "      <td>1.0</td>\n",
       "      <td>0</td>\n",
       "      <td>0</td>\n",
       "      <td>0.329917</td>\n",
       "      <td>0.000002</td>\n",
       "      <td>GABBR2;HTR6;GRM5;P2RX5;THRA;GRIK5;P2RY2;PTGER3...</td>\n",
       "    </tr>\n",
       "  </tbody>\n",
       "</table>\n",
       "<p>433 rows × 10 columns</p>\n",
       "</div>"
      ],
      "text/plain": [
       "      Gene_set                                               Term Overlap  \\\n",
       "0    KEGG_2016        N-Glycan biosynthesis Homo sapiens hsa00510    9/49   \n",
       "1    KEGG_2016     Type I diabetes mellitus Homo sapiens hsa04940    8/43   \n",
       "2    KEGG_2016                   Cell cycle Homo sapiens hsa04110  20/124   \n",
       "3    KEGG_2016     Homologous recombination Homo sapiens hsa03440    5/29   \n",
       "4    KEGG_2016  Fructose and mannose metabolism Homo sapiens h...    5/32   \n",
       "..         ...                                                ...     ...   \n",
       "428  KEGG_2013                    HSA04010 MAPK SIGNALING PATHWAY  16/257   \n",
       "429  KEGG_2013                HSA04630 JAK STAT SIGNALING PATHWAY   6/153   \n",
       "430  KEGG_2013                            HSA04530 TIGHT JUNCTION   4/136   \n",
       "431  KEGG_2013    HSA04060 CYTOKINE CYTOKINE RECEPTOR INTERACTION  13/257   \n",
       "432  KEGG_2013   HSA04080 NEUROACTIVE LIGAND RECEPTOR INTERACTION  12/254   \n",
       "\n",
       "      P-value  Adjusted P-value  Old P-value  Old Adjusted P-value  \\\n",
       "0    0.262328               1.0            0                     0   \n",
       "1    0.267992               1.0            0                     0   \n",
       "2    0.318387               1.0            0                     0   \n",
       "3    0.403004               1.0            0                     0   \n",
       "4    0.491962               1.0            0                     0   \n",
       "..        ...               ...          ...                   ...   \n",
       "428  0.999983               1.0            0                     0   \n",
       "429  0.999990               1.0            0                     0   \n",
       "430  0.999994               1.0            0                     0   \n",
       "431  0.999995               1.0            0                     0   \n",
       "432  0.999995               1.0            0                     0   \n",
       "\n",
       "     Odds Ratio  Combined Score  \\\n",
       "0      1.282636        1.716372   \n",
       "1      1.299207        1.710792   \n",
       "2      1.126329        1.289069   \n",
       "3      1.204007        1.094211   \n",
       "4      1.091131        0.773997   \n",
       "..          ...             ...   \n",
       "428    0.434754        0.000008   \n",
       "429    0.273853        0.000003   \n",
       "430    0.205389        0.000001   \n",
       "431    0.353238        0.000002   \n",
       "432    0.329917        0.000002   \n",
       "\n",
       "                                                 Genes  \n",
       "0    ALG8;GANAB;B4GALT1;MAN1A2;MGAT5B;ALG2;ALG3;DOL...  \n",
       "1    ICA1;GAD2;FASLG;HLA-F;HLA-G;HLA-DQA1;HSPD1;HLA...  \n",
       "2    RB1;GSK3B;CDKN1B;PCNA;GADD45B;MCM7;PRKDC;GADD4...  \n",
       "3                      MUS81;RAD51B;POLD1;TOP3A;RAD54L  \n",
       "4                          PFKFB3;PMM2;ALDOC;ALDOB;HK1  \n",
       "..                                                 ...  \n",
       "428  MAP3K2;MAP2K3;ATF2;GADD45B;GADD45A;FASLG;DUSP8...  \n",
       "429              IFNAR2;IFNGR1;SPRY3;EP300;PIK3CB;TYK2  \n",
       "430                           CSNK2A1;CTNNA1;F11R;JAM3  \n",
       "431  IFNAR2;IFNGR1;HGF;TNFRSF9;TNFRSF10A;FASLG;CX3C...  \n",
       "432  GABBR2;HTR6;GRM5;P2RX5;THRA;GRIK5;P2RY2;PTGER3...  \n",
       "\n",
       "[433 rows x 10 columns]"
      ]
     },
     "execution_count": 25,
     "metadata": {},
     "output_type": "execute_result"
    }
   ],
   "source": [
    "e.results"
   ]
  },
  {
   "cell_type": "code",
   "execution_count": 23,
   "metadata": {},
   "outputs": [
    {
     "data": {
      "text/plain": [
       "gene_id\n",
       "ENSG00000201016    5.239075\n",
       "ENSG00000207176    4.773088\n",
       "ENSG00000206980    4.560893\n",
       "ENSG00000201555    4.121855\n",
       "ENSG00000207164    3.988770\n",
       "                     ...   \n",
       "ENSG00000280114    0.000000\n",
       "ENSG00000264024    0.000000\n",
       "ENSG00000130413    0.000000\n",
       "ENSG00000264623    0.000000\n",
       "ENSG00000212694    0.000000\n",
       "Length: 3000, dtype: float32"
      ]
     },
     "execution_count": 23,
     "metadata": {},
     "output_type": "execute_result"
    }
   ],
   "source": [
    "indv_saliency.sum(axis = 0).sort_values(ascending = False)"
   ]
  },
  {
   "cell_type": "code",
   "execution_count": 27,
   "metadata": {},
   "outputs": [
    {
     "data": {
      "text/plain": [
       "'Warning: No enrich terms using library KEGG when cutoff = 0.05'"
      ]
     },
     "execution_count": 27,
     "metadata": {},
     "output_type": "execute_result"
    }
   ],
   "source": [
    "# simple plotting function\n",
    "from gseapy.plot import barplot, dotplot\n",
    "%matplotlib inline\n",
    "# to save your figure, make sure that ``ofname`` is not None\n",
    "barplot(e.res2d,title='KEGG',)"
   ]
  },
  {
   "cell_type": "code",
   "execution_count": 33,
   "metadata": {},
   "outputs": [],
   "source": [
    "rnk = indv_saliency.sum(axis = 0).sort_values(ascending = False).to_frame()\n",
    "rnk.index = id_converter.loc[rnk.index, 'symbol']"
   ]
  },
  {
   "cell_type": "code",
   "execution_count": 35,
   "metadata": {},
   "outputs": [
    {
     "name": "stderr",
     "output_type": "stream",
     "text": [
      "2020-05-27 14:05:58,104 Input gene rankings contains NA values(gene name and ranking value), drop them all!\n"
     ]
    }
   ],
   "source": [
    "pre_res = gp.prerank(rnk=rnk, gene_sets='KEGG_2016',\n",
    "                     processes=4,\n",
    "                     permutation_num=100, # reduce number to speed up testing\n",
    "                     outdir='test/prerank_report_kegg', format='png', seed=6)"
   ]
  },
  {
   "cell_type": "code",
   "execution_count": 38,
   "metadata": {},
   "outputs": [
    {
     "data": {
      "text/html": [
       "<div>\n",
       "<style scoped>\n",
       "    .dataframe tbody tr th:only-of-type {\n",
       "        vertical-align: middle;\n",
       "    }\n",
       "\n",
       "    .dataframe tbody tr th {\n",
       "        vertical-align: top;\n",
       "    }\n",
       "\n",
       "    .dataframe thead th {\n",
       "        text-align: right;\n",
       "    }\n",
       "</style>\n",
       "<table border=\"1\" class=\"dataframe\">\n",
       "  <thead>\n",
       "    <tr style=\"text-align: right;\">\n",
       "      <th></th>\n",
       "      <th>es</th>\n",
       "      <th>nes</th>\n",
       "      <th>pval</th>\n",
       "      <th>fdr</th>\n",
       "      <th>geneset_size</th>\n",
       "      <th>matched_size</th>\n",
       "      <th>genes</th>\n",
       "      <th>ledge_genes</th>\n",
       "    </tr>\n",
       "    <tr>\n",
       "      <th>Term</th>\n",
       "      <th></th>\n",
       "      <th></th>\n",
       "      <th></th>\n",
       "      <th></th>\n",
       "      <th></th>\n",
       "      <th></th>\n",
       "      <th></th>\n",
       "      <th></th>\n",
       "    </tr>\n",
       "  </thead>\n",
       "  <tbody>\n",
       "    <tr>\n",
       "      <th>Regulation of actin cytoskeleton Homo sapiens hsa04810</th>\n",
       "      <td>0.892023</td>\n",
       "      <td>1.346293</td>\n",
       "      <td>0.120000</td>\n",
       "      <td>1.0</td>\n",
       "      <td>214</td>\n",
       "      <td>16</td>\n",
       "      <td>ITGB2;WASL;IQGAP1;BAIAP2;PIP4K2B;VCL;LIMK2;ITG...</td>\n",
       "      <td>ITGB2;WASL</td>\n",
       "    </tr>\n",
       "    <tr>\n",
       "      <th>Cell adhesion molecules (CAMs) Homo sapiens hsa04514</th>\n",
       "      <td>0.748335</td>\n",
       "      <td>1.123968</td>\n",
       "      <td>0.242424</td>\n",
       "      <td>1.0</td>\n",
       "      <td>142</td>\n",
       "      <td>17</td>\n",
       "      <td>ITGB2;PVR;F11R;HLA-G;PTPRC;CD2;ICOSLG;CDH1;HLA...</td>\n",
       "      <td>ITGB2;PVR;F11R</td>\n",
       "    </tr>\n",
       "    <tr>\n",
       "      <th>Focal adhesion Homo sapiens hsa04510</th>\n",
       "      <td>0.857822</td>\n",
       "      <td>1.214975</td>\n",
       "      <td>0.260000</td>\n",
       "      <td>1.0</td>\n",
       "      <td>202</td>\n",
       "      <td>16</td>\n",
       "      <td>BAD;LAMC2;VEGFA;PARVB;PDPK1;GSK3B;VCL;ITGB8;HG...</td>\n",
       "      <td>BAD;LAMC2;VEGFA;PARVB</td>\n",
       "    </tr>\n",
       "    <tr>\n",
       "      <th>cAMP signaling pathway Homo sapiens hsa04024</th>\n",
       "      <td>0.780270</td>\n",
       "      <td>1.129838</td>\n",
       "      <td>0.270000</td>\n",
       "      <td>1.0</td>\n",
       "      <td>199</td>\n",
       "      <td>15</td>\n",
       "      <td>BAD;HTR1D;GLI1;GABBR2;AMH;ADORA1;EP300;CALM2;P...</td>\n",
       "      <td>BAD;HTR1D;GLI1;GABBR2;AMH;ADORA1;EP300</td>\n",
       "    </tr>\n",
       "    <tr>\n",
       "      <th>Ras signaling pathway Homo sapiens hsa04014</th>\n",
       "      <td>0.716020</td>\n",
       "      <td>1.076016</td>\n",
       "      <td>0.280000</td>\n",
       "      <td>1.0</td>\n",
       "      <td>227</td>\n",
       "      <td>17</td>\n",
       "      <td>SYNGAP1;BAD;VEGFA;PLA1A;GNG5;KITLG;TBK1;FASLG;...</td>\n",
       "      <td>SYNGAP1;BAD;VEGFA</td>\n",
       "    </tr>\n",
       "  </tbody>\n",
       "</table>\n",
       "</div>"
      ],
      "text/plain": [
       "                                                          es       nes  \\\n",
       "Term                                                                     \n",
       "Regulation of actin cytoskeleton Homo sapiens h...  0.892023  1.346293   \n",
       "Cell adhesion molecules (CAMs) Homo sapiens hsa...  0.748335  1.123968   \n",
       "Focal adhesion Homo sapiens hsa04510                0.857822  1.214975   \n",
       "cAMP signaling pathway Homo sapiens hsa04024        0.780270  1.129838   \n",
       "Ras signaling pathway Homo sapiens hsa04014         0.716020  1.076016   \n",
       "\n",
       "                                                        pval  fdr  \\\n",
       "Term                                                                \n",
       "Regulation of actin cytoskeleton Homo sapiens h...  0.120000  1.0   \n",
       "Cell adhesion molecules (CAMs) Homo sapiens hsa...  0.242424  1.0   \n",
       "Focal adhesion Homo sapiens hsa04510                0.260000  1.0   \n",
       "cAMP signaling pathway Homo sapiens hsa04024        0.270000  1.0   \n",
       "Ras signaling pathway Homo sapiens hsa04014         0.280000  1.0   \n",
       "\n",
       "                                                    geneset_size  \\\n",
       "Term                                                               \n",
       "Regulation of actin cytoskeleton Homo sapiens h...           214   \n",
       "Cell adhesion molecules (CAMs) Homo sapiens hsa...           142   \n",
       "Focal adhesion Homo sapiens hsa04510                         202   \n",
       "cAMP signaling pathway Homo sapiens hsa04024                 199   \n",
       "Ras signaling pathway Homo sapiens hsa04014                  227   \n",
       "\n",
       "                                                    matched_size  \\\n",
       "Term                                                               \n",
       "Regulation of actin cytoskeleton Homo sapiens h...            16   \n",
       "Cell adhesion molecules (CAMs) Homo sapiens hsa...            17   \n",
       "Focal adhesion Homo sapiens hsa04510                          16   \n",
       "cAMP signaling pathway Homo sapiens hsa04024                  15   \n",
       "Ras signaling pathway Homo sapiens hsa04014                   17   \n",
       "\n",
       "                                                                                                genes  \\\n",
       "Term                                                                                                    \n",
       "Regulation of actin cytoskeleton Homo sapiens h...  ITGB2;WASL;IQGAP1;BAIAP2;PIP4K2B;VCL;LIMK2;ITG...   \n",
       "Cell adhesion molecules (CAMs) Homo sapiens hsa...  ITGB2;PVR;F11R;HLA-G;PTPRC;CD2;ICOSLG;CDH1;HLA...   \n",
       "Focal adhesion Homo sapiens hsa04510                BAD;LAMC2;VEGFA;PARVB;PDPK1;GSK3B;VCL;ITGB8;HG...   \n",
       "cAMP signaling pathway Homo sapiens hsa04024        BAD;HTR1D;GLI1;GABBR2;AMH;ADORA1;EP300;CALM2;P...   \n",
       "Ras signaling pathway Homo sapiens hsa04014         SYNGAP1;BAD;VEGFA;PLA1A;GNG5;KITLG;TBK1;FASLG;...   \n",
       "\n",
       "                                                                               ledge_genes  \n",
       "Term                                                                                        \n",
       "Regulation of actin cytoskeleton Homo sapiens h...                              ITGB2;WASL  \n",
       "Cell adhesion molecules (CAMs) Homo sapiens hsa...                          ITGB2;PVR;F11R  \n",
       "Focal adhesion Homo sapiens hsa04510                                 BAD;LAMC2;VEGFA;PARVB  \n",
       "cAMP signaling pathway Homo sapiens hsa04024        BAD;HTR1D;GLI1;GABBR2;AMH;ADORA1;EP300  \n",
       "Ras signaling pathway Homo sapiens hsa04014                              SYNGAP1;BAD;VEGFA  "
      ]
     },
     "execution_count": 38,
     "metadata": {},
     "output_type": "execute_result"
    }
   ],
   "source": [
    "pre_res.res2d.sort_values(by = 'pval').head()"
   ]
  }
 ],
 "metadata": {
  "kernelspec": {
   "display_name": "exrna",
   "language": "python",
   "name": "exrna"
  },
  "language_info": {
   "codemirror_mode": {
    "name": "ipython",
    "version": 3
   },
   "file_extension": ".py",
   "mimetype": "text/x-python",
   "name": "python",
   "nbconvert_exporter": "python",
   "pygments_lexer": "ipython3",
   "version": "3.7.6"
  }
 },
 "nbformat": 4,
 "nbformat_minor": 2
}
