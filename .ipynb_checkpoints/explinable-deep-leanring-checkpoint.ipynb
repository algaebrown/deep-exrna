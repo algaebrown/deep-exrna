{
 "cells": [
  {
   "cell_type": "code",
   "execution_count": 1,
   "metadata": {},
   "outputs": [],
   "source": [
    "# import data\n",
    "import pandas as pd\n",
    "from os import path\n",
    "indir = '/cellar/users/hsher/course_project_2020/data'\n",
    "rna = pd.read_csv(path.join(indir, 'tpm_96_nodup.tsv'), sep = '\\t', index_col = 0) \n",
    "rna = rna.loc[rna.sum(axis = 1)!=0] # remove RNA expression = 0 for all patients\n",
    "pt = pd.read_csv(path.join(indir, 'patient_info.csv'), index_col = 0)"
   ]
  },
  {
   "cell_type": "code",
   "execution_count": 2,
   "metadata": {},
   "outputs": [
    {
     "data": {
      "text/plain": [
       "(56472, 96)"
      ]
     },
     "execution_count": 2,
     "metadata": {},
     "output_type": "execute_result"
    }
   ],
   "source": [
    "rna.shape"
   ]
  },
  {
   "cell_type": "markdown",
   "metadata": {},
   "source": [
    "# Statistical test for first round of feature selection\n",
    "else ~60000 genes is too much"
   ]
  },
  {
   "cell_type": "code",
   "execution_count": 3,
   "metadata": {},
   "outputs": [],
   "source": [
    "recur_rna = rna[pt.loc[pt['recurStatus'] == 'R'].index]\n",
    "norecur_rna = rna[pt.loc[pt['recurStatus'] == 'N'].index]\n",
    "from scipy.stats import mannwhitneyu\n",
    "\n",
    "stat = pd.DataFrame(index = rna.index, columns = ['stat', 'p'])\n",
    "\n",
    "for gene in rna.index:\n",
    "    s, p = mannwhitneyu(recur_rna.loc[gene], norecur_rna.loc[gene])\n",
    "    stat.loc[gene] = [s,p]"
   ]
  },
  {
   "cell_type": "code",
   "execution_count": 4,
   "metadata": {},
   "outputs": [
    {
     "data": {
      "text/html": [
       "<div>\n",
       "<style scoped>\n",
       "    .dataframe tbody tr th:only-of-type {\n",
       "        vertical-align: middle;\n",
       "    }\n",
       "\n",
       "    .dataframe tbody tr th {\n",
       "        vertical-align: top;\n",
       "    }\n",
       "\n",
       "    .dataframe thead th {\n",
       "        text-align: right;\n",
       "    }\n",
       "</style>\n",
       "<table border=\"1\" class=\"dataframe\">\n",
       "  <thead>\n",
       "    <tr style=\"text-align: right;\">\n",
       "      <th></th>\n",
       "      <th>stat</th>\n",
       "      <th>p</th>\n",
       "    </tr>\n",
       "    <tr>\n",
       "      <th>gene_id</th>\n",
       "      <th></th>\n",
       "      <th></th>\n",
       "    </tr>\n",
       "  </thead>\n",
       "  <tbody>\n",
       "    <tr>\n",
       "      <th>ENSG00000212694</th>\n",
       "      <td>474.5</td>\n",
       "      <td>1.38014e-05</td>\n",
       "    </tr>\n",
       "    <tr>\n",
       "      <th>ENSG00000172201</th>\n",
       "      <td>440</td>\n",
       "      <td>1.6768e-05</td>\n",
       "    </tr>\n",
       "    <tr>\n",
       "      <th>ENSG00000279198</th>\n",
       "      <td>462</td>\n",
       "      <td>2.80918e-05</td>\n",
       "    </tr>\n",
       "    <tr>\n",
       "      <th>ENSG00000259657</th>\n",
       "      <td>632.5</td>\n",
       "      <td>3.72484e-05</td>\n",
       "    </tr>\n",
       "    <tr>\n",
       "      <th>ENSG00000243260</th>\n",
       "      <td>579.5</td>\n",
       "      <td>4.01381e-05</td>\n",
       "    </tr>\n",
       "    <tr>\n",
       "      <th>...</th>\n",
       "      <td>...</td>\n",
       "      <td>...</td>\n",
       "    </tr>\n",
       "    <tr>\n",
       "      <th>ENSG00000218049</th>\n",
       "      <td>782</td>\n",
       "      <td>0.0499595</td>\n",
       "    </tr>\n",
       "    <tr>\n",
       "      <th>ENSG00000264242</th>\n",
       "      <td>782</td>\n",
       "      <td>0.0499595</td>\n",
       "    </tr>\n",
       "    <tr>\n",
       "      <th>ENSG00000260352</th>\n",
       "      <td>782</td>\n",
       "      <td>0.0499595</td>\n",
       "    </tr>\n",
       "    <tr>\n",
       "      <th>ENSG00000272720</th>\n",
       "      <td>752</td>\n",
       "      <td>0.0499817</td>\n",
       "    </tr>\n",
       "    <tr>\n",
       "      <th>ENSG00000250300</th>\n",
       "      <td>757.5</td>\n",
       "      <td>0.0499923</td>\n",
       "    </tr>\n",
       "  </tbody>\n",
       "</table>\n",
       "<p>6272 rows × 2 columns</p>\n",
       "</div>"
      ],
      "text/plain": [
       "                  stat            p\n",
       "gene_id                            \n",
       "ENSG00000212694  474.5  1.38014e-05\n",
       "ENSG00000172201    440   1.6768e-05\n",
       "ENSG00000279198    462  2.80918e-05\n",
       "ENSG00000259657  632.5  3.72484e-05\n",
       "ENSG00000243260  579.5  4.01381e-05\n",
       "...                ...          ...\n",
       "ENSG00000218049    782    0.0499595\n",
       "ENSG00000264242    782    0.0499595\n",
       "ENSG00000260352    782    0.0499595\n",
       "ENSG00000272720    752    0.0499817\n",
       "ENSG00000250300  757.5    0.0499923\n",
       "\n",
       "[6272 rows x 2 columns]"
      ]
     },
     "execution_count": 4,
     "metadata": {},
     "output_type": "execute_result"
    }
   ],
   "source": [
    "stat.loc[stat['p']<0.05].sort_values(by = 'p')"
   ]
  },
  {
   "cell_type": "code",
   "execution_count": 5,
   "metadata": {},
   "outputs": [],
   "source": [
    "selected_feature = stat.loc[stat['p']<0.05].sort_values(by = 'p').index[:500]"
   ]
  },
  {
   "cell_type": "markdown",
   "metadata": {},
   "source": [
    "# Tune neural network hidden layer size"
   ]
  },
  {
   "cell_type": "code",
   "execution_count": 6,
   "metadata": {},
   "outputs": [],
   "source": [
    "X = rna.loc[selected_feature].values\n",
    "y = pt.loc[rna.columns, 'recurStatus'].map({'N': 0, 'R': 1}).values"
   ]
  },
  {
   "cell_type": "code",
   "execution_count": 7,
   "metadata": {},
   "outputs": [
    {
     "data": {
      "text/plain": [
       "(500, 96)"
      ]
     },
     "execution_count": 7,
     "metadata": {},
     "output_type": "execute_result"
    }
   ],
   "source": [
    "X.shape"
   ]
  },
  {
   "cell_type": "code",
   "execution_count": 8,
   "metadata": {},
   "outputs": [
    {
     "data": {
      "text/plain": [
       "(96,)"
      ]
     },
     "execution_count": 8,
     "metadata": {},
     "output_type": "execute_result"
    }
   ],
   "source": [
    "y.shape"
   ]
  },
  {
   "cell_type": "code",
   "execution_count": 47,
   "metadata": {},
   "outputs": [],
   "source": [
    "# train test split\n",
    "from sklearn.model_selection import train_test_split\n",
    "X_train, X_test, y_train, y_test = train_test_split(X.T, y, test_size=0.2, random_state=None)"
   ]
  },
  {
   "cell_type": "code",
   "execution_count": 48,
   "metadata": {},
   "outputs": [
    {
     "data": {
      "text/plain": [
       "(76, 500)"
      ]
     },
     "execution_count": 48,
     "metadata": {},
     "output_type": "execute_result"
    }
   ],
   "source": [
    "X_train.shape"
   ]
  },
  {
   "cell_type": "code",
   "execution_count": 49,
   "metadata": {},
   "outputs": [
    {
     "data": {
      "text/plain": [
       "(20, 500)"
      ]
     },
     "execution_count": 49,
     "metadata": {},
     "output_type": "execute_result"
    }
   ],
   "source": [
    "X_test.shape"
   ]
  },
  {
   "cell_type": "code",
   "execution_count": 50,
   "metadata": {},
   "outputs": [
    {
     "data": {
      "text/plain": [
       "8"
      ]
     },
     "execution_count": 50,
     "metadata": {},
     "output_type": "execute_result"
    }
   ],
   "source": [
    "y_test.sum()"
   ]
  },
  {
   "cell_type": "markdown",
   "metadata": {},
   "source": [
    "# select number of layers\n",
    "from sklearn.neural_network import MLPClassifier\n",
    "from sklearn.model_selection import cross_val_score\n",
    "from sklearn.metrics import accuracy_score\n",
    "import numpy as np\n",
    "def model_evaluation(layer = (5, 9,8,4), n_iter = 50):\n",
    "    accuracy = []\n",
    "    cvs = []\n",
    "    for i in range(n_iter):\n",
    "        X_train, X_test, y_train, y_test = train_test_split(X.T, y, test_size=0.2, random_state=None)\n",
    "\n",
    "        clf = MLPClassifier(solver='lbfgs', alpha=1e-5,\n",
    "                    hidden_layer_sizes=layer, random_state=None, early_stopping = True, max_iter = 300)\n",
    "\n",
    "\n",
    "        clf.fit(X_train, y_train)\n",
    "        cv = cross_val_score(clf, X_train, y_train, cv=10, scoring='recall_macro')\n",
    "        y_test_hat = clf.predict(X_test)\n",
    "        acc = accuracy_score(y_test, y_test_hat)\n",
    "        \n",
    "        accuracy.append(acc)\n",
    "        cvs.append([cv.mean(), cv.std()])\n",
    "    return accuracy, cvs"
   ]
  },
  {
   "cell_type": "markdown",
   "metadata": {},
   "source": [
    "layer  = [(10,10,10,10,10,10,10,10), (10,10,10,10,10,10,10,10,10),(10,10,10,10,10,10,10,10,10,10),(10,10,10,10,10,10,10,10,10,10,10), (10,10,10,10,10,10,10,10,10,10,10,10)]\n",
    "df = pd.DataFrame(index = [str(l) for l in layer], columns = ['acc_mean', 'acc_std', 'cv_mean', 'cv_std'])\n",
    "for l in layer:\n",
    "    acc, cvs = model_evaluation(layer = l)\n",
    "    acc_mean = np.mean(acc)\n",
    "    acc_std = np.std(acc)\n",
    "    cv_mean = np.mean([c[0] for c in cvs])\n",
    "    cv_std = np.std([c[0] for c in cvs])\n",
    "    df.loc[str(l)] = [acc_mean, acc_std, cv_mean, cv_std]"
   ]
  },
  {
   "cell_type": "markdown",
   "metadata": {},
   "source": [
    "df"
   ]
  },
  {
   "cell_type": "markdown",
   "metadata": {},
   "source": [
    "# Migrate to keras and do explainable deep learning\n",
    "https://www.machinecurve.com/index.php/2019/11/25/visualizing-keras-cnn-attention-saliency-maps/"
   ]
  },
  {
   "cell_type": "code",
   "execution_count": 71,
   "metadata": {},
   "outputs": [
    {
     "name": "stdout",
     "output_type": "stream",
     "text": [
      "Epoch 01712: early stopping\n",
      "Test loss: 2.365217924118042 / Test accuracy: 0.800000011920929\n"
     ]
    }
   ],
   "source": [
    "# build keras model: \n",
    "no_classes = 2\n",
    "from keras.models import Sequential\n",
    "from keras.layers import Dense\n",
    "from keras import backend as K\n",
    "import keras\n",
    "from keras.callbacks import EarlyStopping\n",
    "\n",
    "y_train_class = keras.utils.to_categorical(y_train, no_classes)\n",
    "y_test_class = keras.utils.to_categorical(y_test, no_classes)\n",
    "\n",
    "\n",
    "model = Sequential()\n",
    "model.add(Dense(10, input_dim=X.shape[0], activation='relu'))\n",
    "_ = [model.add(Dense(10, activation='relu')) for i in range(3)]\n",
    "# add saliency map layer\n",
    "model.add(Dense(no_classes, activation='softmax', name='saliency_map'))\n",
    "\n",
    "\n",
    "batch_size = X_train.shape[1]\n",
    "no_epochs = 3000\n",
    "validation_split = 0.1\n",
    "verbosity = 1\n",
    "\n",
    "# use early stopping\n",
    "es = EarlyStopping(monitor='val_loss', mode='min', verbose=1, patience=200)\n",
    "\n",
    "\n",
    "\n",
    "model.compile(loss='binary_crossentropy',\n",
    "              optimizer=keras.optimizers.Adam(),\n",
    "              metrics=['accuracy'])\n",
    "history = model.fit(X_train, y_train_class,\n",
    "          batch_size=batch_size,\n",
    "          epochs=no_epochs,\n",
    "          verbose=0,\n",
    "          validation_split=validation_split,\n",
    "            callbacks=[es])\n",
    "score = model.evaluate(X_test, y_test_class, verbose=0)\n",
    "print(f'Test loss: {score[0]} / Test accuracy: {score[1]}')"
   ]
  },
  {
   "cell_type": "code",
   "execution_count": 72,
   "metadata": {},
   "outputs": [
    {
     "data": {
      "image/png": "[encoded data removed]",
      "text/plain": [
       "<Figure size 432x288 with 1 Axes>"
      ]
     },
     "metadata": {
      "needs_background": "light"
     },
     "output_type": "display_data"
    },
    {
     "data": {
      "image/png": "[encoded data removed]",
      "text/plain": [
       "<Figure size 432x288 with 1 Axes>"
      ]
     },
     "metadata": {
      "needs_background": "light"
     },
     "output_type": "display_data"
    }
   ],
   "source": [
    "import matplotlib.pyplot as plt\n",
    "%matplotlib inline\n",
    "# summarize history for accuracy\n",
    "plt.plot(history.history['accuracy'])\n",
    "plt.plot(history.history['val_accuracy'])\n",
    "plt.title('model accuracy')\n",
    "plt.ylabel('accuracy')\n",
    "plt.xlabel('epoch')\n",
    "plt.legend(['train', 'test'], loc='upper left')\n",
    "plt.show()\n",
    "# summarize history for loss\n",
    "plt.plot(history.history['loss'])\n",
    "plt.plot(history.history['val_loss'])\n",
    "plt.title('model loss')\n",
    "plt.ylabel('loss')\n",
    "plt.xlabel('epoch')\n",
    "plt.legend(['train', 'test'], loc='upper left')\n",
    "plt.show()"
   ]
  },
  {
   "cell_type": "code",
   "execution_count": 75,
   "metadata": {},
   "outputs": [],
   "source": [
    "# find layer\n",
    "from vis.visualization import visualize_saliency\n",
    "from vis.utils import utils\n",
    "from keras import activations\n",
    "\n",
    "import numpy as np\n",
    "\n",
    "# Find the index of the to be visualized layer above\n",
    "layer_index = utils.find_layer_idx(model, 'saliency_map')\n",
    "\n",
    "# Swap softmax with linear: compute how the output changes with respect to a change in input. \n",
    "model.layers[layer_index].activation = activations.linear\n",
    "model = utils.apply_modifications(model)  \n",
    "\n",
    "indices_to_visualize = np.where(y_test == 1)[0]\n",
    "indices_to_visualize.tolist()\n",
    "\n",
    "# Visualize\n",
    "all_vis = []\n",
    "for index_to_visualize in indices_to_visualize:\n",
    "    # Get input\n",
    "    input_image = X_test[index_to_visualize]\n",
    "    input_class = np.argmax(y_test_class[index_to_visualize])\n",
    "    \n",
    "    visualization = visualize_saliency(model, layer_index, filter_indices=input_class, seed_input=input_image,grad_modifier='relu',keepdims=True)\n",
    "    \n",
    "    all_vis.append(visualization)"
   ]
  },
  {
   "cell_type": "code",
   "execution_count": 79,
   "metadata": {},
   "outputs": [
    {
     "data": {
      "text/plain": [
       "<seaborn.matrix.ClusterGrid at 0x7f94e8e05d50>"
      ]
     },
     "execution_count": 79,
     "metadata": {},
     "output_type": "execute_result"
    },
    {
     "data": {
      "image/png": "[encoded data removed]",
      "text/plain": [
       "<Figure size 720x720 with 4 Axes>"
      ]
     },
     "metadata": {
      "needs_background": "light"
     },
     "output_type": "display_data"
    }
   ],
   "source": [
    "import seaborn as sns\n",
    "indv_saliency = pd.DataFrame(np.stack(all_vis), columns = selected_feature, index = indices_to_visualize)\n",
    "sns.clustermap(indv_saliency)"
   ]
  },
  {
   "cell_type": "markdown",
   "metadata": {},
   "source": [
    "# What is the neural network looking at"
   ]
  },
  {
   "cell_type": "code",
   "execution_count": 83,
   "metadata": {},
   "outputs": [],
   "source": [
    "# build id converter\n",
    "from gseapy.parser import Biomart\n",
    "bm = Biomart()\n",
    "queries = list(selected_feature) # need to be a python list\n",
    "results = bm.query(dataset='hsapiens_gene_ensembl',\n",
    "                       attributes=['ensembl_gene_id', 'external_gene_name', 'entrezgene_id', 'go_id'],\n",
    "                       filters={'ensemble_gene_id': queries})"
   ]
  },
  {
   "cell_type": "code",
   "execution_count": 85,
   "metadata": {},
   "outputs": [
    {
     "data": {
      "text/plain": [
       "'Query ERROR: caught BioMart::Exception::Usage: Filter ensemble_gene_id NOT FOUND'"
      ]
     },
     "execution_count": 85,
     "metadata": {},
     "output_type": "execute_result"
    }
   ],
   "source": [
    "results.iloc[0,0]"
   ]
  },
  {
   "cell_type": "code",
   "execution_count": 80,
   "metadata": {},
   "outputs": [
    {
     "data": {
      "text/plain": [
       "Index(['ENSG00000137492', 'ENSG00000267476', 'ENSG00000202402',\n",
       "       'ENSG00000167380', 'ENSG00000112763', 'ENSG00000280149',\n",
       "       'ENSG00000198146', 'ENSG00000266861', 'ENSG00000176401',\n",
       "       'ENSG00000005020',\n",
       "       ...\n",
       "       'ENSG00000165898', 'ENSG00000254006', 'ENSG00000233589',\n",
       "       'ENSG00000083454', 'ENSG00000259091', 'ENSG00000164746',\n",
       "       'ENSG00000262818', 'ENSG00000058262', 'ENSG00000229743',\n",
       "       'ENSG00000233128'],\n",
       "      dtype='object', name='gene_id', length=500)"
      ]
     },
     "execution_count": 80,
     "metadata": {},
     "output_type": "execute_result"
    }
   ],
   "source": [
    "selected_feature[np.argsort(visualization)[::-1]] # descending"
   ]
  },
  {
   "cell_type": "code",
   "execution_count": 34,
   "metadata": {},
   "outputs": [
    {
     "data": {
      "text/plain": [
       "array([0.37697273, 0.        , 0.02454736, 0.03675893, 0.        ,\n",
       "       0.65200585, 0.66942245, 0.5911049 , 0.26234138, 0.        ,\n",
       "       0.3254302 , 0.        , 0.13670169, 0.        , 0.        ,\n",
       "       0.7781596 , 0.        , 0.        , 0.        , 0.        ,\n",
       "       0.        , 0.        , 0.2077982 , 0.22933948, 0.        ,\n",
       "       0.        , 0.04671541, 0.643378  , 0.        , 0.        ,\n",
       "       0.2834734 , 0.13500406, 0.        , 0.5619364 , 0.        ,\n",
       "       0.04711501, 0.        , 0.72592664, 0.13973594, 0.06261666,\n",
       "       0.        , 0.        , 0.        , 0.37321442, 0.        ,\n",
       "       0.        , 0.2922843 , 0.        , 0.1398437 , 0.16434775,\n",
       "       0.        , 0.        , 0.        , 0.32595098, 0.        ,\n",
       "       0.        , 0.        , 0.01067883, 0.        , 0.        ,\n",
       "       0.        , 0.32119745, 0.        , 0.        , 0.39403927,\n",
       "       0.15971845, 0.        , 0.        , 0.16323924, 0.09716745,\n",
       "       0.33236977, 0.48723087, 0.        , 0.        , 0.3191846 ,\n",
       "       0.        , 0.        , 0.        , 0.23924212, 0.32747945,\n",
       "       0.2902923 , 0.41042942, 0.        , 0.28943205, 0.        ,\n",
       "       0.02662483, 0.01556299, 0.        , 0.        , 0.        ,\n",
       "       0.18141127, 0.        , 0.        , 0.1058976 , 0.66259927,\n",
       "       0.13193826, 0.43589374, 0.        , 0.460497  , 0.17459883,\n",
       "       0.        , 0.08552087, 0.        , 0.1023292 , 0.        ,\n",
       "       0.        , 0.5180473 , 0.07650861, 0.        , 0.        ,\n",
       "       0.        , 0.        , 0.05391826, 0.        , 0.        ,\n",
       "       0.        , 0.24782561, 0.        , 0.21067384, 0.31345338,\n",
       "       0.        , 0.        , 0.        , 0.        , 0.        ,\n",
       "       0.46837294, 0.22027993, 0.        , 0.4713747 , 0.        ,\n",
       "       0.1287016 , 0.        , 0.6137021 , 0.19740634, 0.13165449,\n",
       "       0.13568817, 0.        , 0.        , 0.        , 0.5144331 ,\n",
       "       0.09110472, 0.        , 0.08614168, 0.37856436, 0.        ,\n",
       "       0.41359392, 0.        , 0.46901572, 0.        , 0.        ,\n",
       "       0.        , 0.        , 0.        , 0.        , 0.32986698,\n",
       "       0.14832902, 0.        , 0.        , 0.        , 0.        ,\n",
       "       0.6267171 , 0.        , 0.        , 0.26245636, 0.33203757,\n",
       "       0.        , 0.        , 0.        , 0.        , 0.4339908 ,\n",
       "       0.        , 0.20298262, 0.        , 0.        , 0.3646768 ,\n",
       "       0.11217387, 0.12763096, 0.06941729, 0.14766419, 0.        ,\n",
       "       0.36047915, 0.        , 0.        , 0.00485494, 0.        ,\n",
       "       0.        , 0.603906  , 0.4262766 , 0.        , 0.00941822,\n",
       "       0.25625265, 0.31007394, 0.        , 0.        , 0.        ,\n",
       "       0.        , 0.21731253, 0.        , 0.46505058, 0.        ,\n",
       "       0.25325194, 0.55533093, 0.87748116, 0.66551507, 0.5655125 ,\n",
       "       0.        , 0.6770653 , 0.15428403, 0.54215074, 0.00195311,\n",
       "       0.07554835, 0.        , 0.        , 0.25587088, 0.        ,\n",
       "       0.3189988 , 0.10350882, 0.        , 0.03277348, 0.47763187,\n",
       "       0.        , 0.4637613 , 0.        , 0.        , 0.00454361,\n",
       "       0.3599096 , 0.        , 0.        , 0.31276676, 0.        ,\n",
       "       0.20537335, 0.35887164, 0.42591223, 0.16874684, 0.8805162 ,\n",
       "       0.        , 0.        , 0.11198808, 0.        , 0.        ,\n",
       "       0.        , 0.        , 0.06362234, 0.        , 0.        ,\n",
       "       0.        , 0.        , 0.24404252, 0.        , 0.        ,\n",
       "       0.40805617, 0.        , 0.        , 0.58015466, 0.        ,\n",
       "       0.07936905, 0.12691455, 0.37444842, 0.04213463, 0.06920125,\n",
       "       0.        , 0.        , 0.5244097 , 0.19883706, 0.01293863,\n",
       "       0.1012212 , 0.        , 0.        , 0.        , 0.        ,\n",
       "       0.        , 0.12490498, 0.        , 0.38339242, 0.7362076 ,\n",
       "       0.        , 0.26580167, 0.4192082 , 0.        , 0.49641368,\n",
       "       0.17291746, 0.5245898 , 0.        , 0.02728377, 0.6064034 ,\n",
       "       0.1611368 , 0.        , 0.3270729 , 0.        , 0.        ,\n",
       "       0.3331168 , 0.15445465, 0.        , 0.        , 0.        ,\n",
       "       0.26227608, 0.        , 0.17035854, 0.35417897, 0.        ,\n",
       "       0.3912583 , 0.22895423, 0.        , 0.15130727, 0.12652077,\n",
       "       0.        , 0.        , 0.22502568, 0.        , 0.        ,\n",
       "       0.39911315, 0.        , 0.12001301, 0.        , 0.10387231,\n",
       "       0.        , 0.        , 0.        , 0.        , 0.        ,\n",
       "       0.        , 0.5093601 , 0.75278765, 0.        , 0.4335303 ,\n",
       "       0.67167175, 0.        , 0.23504585, 0.        , 0.        ,\n",
       "       0.        , 0.3727035 , 0.36055043, 0.        , 0.1019285 ,\n",
       "       0.        , 0.18492618, 0.        , 0.        , 0.        ,\n",
       "       0.        , 0.6548614 , 0.60274374, 0.31966445, 0.        ,\n",
       "       0.        , 0.04470914, 0.        , 0.22146225, 0.14493737,\n",
       "       0.30141097, 0.4806104 , 0.        , 0.18243158, 0.6341811 ,\n",
       "       0.        , 0.        , 0.        , 0.        , 0.        ,\n",
       "       0.        , 0.        , 0.        , 0.        , 0.        ,\n",
       "       0.54957426, 0.        , 0.        , 0.        , 0.47505334,\n",
       "       0.        , 0.        , 0.3805037 , 0.        , 0.        ,\n",
       "       0.18354315, 0.39056635, 0.36835486, 0.        , 0.        ,\n",
       "       0.19913289, 0.50264865, 0.3439209 , 0.44097817, 0.33786073,\n",
       "       0.        , 0.        , 0.        , 0.04954739, 0.3307826 ,\n",
       "       0.        , 0.04026527, 0.        , 0.        , 0.        ,\n",
       "       0.        , 0.38016582, 0.52509046, 0.1988246 , 0.37844062,\n",
       "       0.        , 0.22013259, 0.23938471, 0.09858582, 0.16566175,\n",
       "       0.        , 0.        , 0.        , 0.8240791 , 0.        ,\n",
       "       0.        , 0.        , 0.39617664, 0.15213232, 0.23079751,\n",
       "       0.        , 0.19773604, 0.08697015, 0.        , 0.        ,\n",
       "       0.5073554 , 0.40573734, 0.        , 0.58140135, 0.        ,\n",
       "       0.        , 0.4267329 , 0.        , 0.06815536, 0.98085195,\n",
       "       0.06646606, 0.29008874, 0.3659786 , 0.74449086, 0.04775575,\n",
       "       0.01585712, 0.16346222, 0.04357244, 0.21908525, 0.        ,\n",
       "       0.        , 0.        , 0.        , 0.        , 0.        ,\n",
       "       0.        , 0.44245377, 0.24706477, 0.00914035, 0.00514006,\n",
       "       0.        , 0.        , 0.        , 0.03584442, 0.        ,\n",
       "       0.43293133, 0.        , 0.01976758, 0.46813208, 0.07625673,\n",
       "       0.48405525, 0.        , 0.        , 0.        , 0.42022762,\n",
       "       0.36901242, 0.        , 0.09965028, 0.        , 0.        ,\n",
       "       0.        , 0.        , 0.5359799 , 0.        , 0.04549914,\n",
       "       0.09879542, 0.38014957, 0.4790965 , 0.4041177 , 0.24259512,\n",
       "       0.22594337, 0.6586377 , 0.2126302 , 0.        , 0.        ,\n",
       "       0.12365592, 0.        , 0.        , 0.5919077 , 0.        ,\n",
       "       0.5341168 , 0.48860428, 0.9999916 , 0.        , 0.6939082 ,\n",
       "       0.        , 0.53588593, 0.15331018, 0.16408649, 0.28602713],\n",
       "      dtype=float32)"
      ]
     },
     "execution_count": 34,
     "metadata": {},
     "output_type": "execute_result"
    }
   ],
   "source": [
    "visualization"
   ]
  },
  {
   "cell_type": "code",
   "execution_count": 17,
   "metadata": {},
   "outputs": [
    {
     "data": {
      "text/plain": [
       "10"
      ]
     },
     "execution_count": 17,
     "metadata": {},
     "output_type": "execute_result"
    }
   ],
   "source": [
    "index_to_visualize"
   ]
  },
  {
   "cell_type": "code",
   "execution_count": 24,
   "metadata": {},
   "outputs": [
    {
     "data": {
      "text/plain": [
       "array([0.37697273, 0.        , 0.02454736, 0.03675893, 0.        ,\n",
       "       0.65200585, 0.66942245, 0.5911049 , 0.26234138, 0.        ,\n",
       "       0.3254302 , 0.        , 0.13670169, 0.        , 0.        ,\n",
       "       0.7781596 , 0.        , 0.        , 0.        , 0.        ,\n",
       "       0.        , 0.        , 0.2077982 , 0.22933948, 0.        ,\n",
       "       0.        , 0.04671541, 0.643378  , 0.        , 0.        ,\n",
       "       0.2834734 , 0.13500406, 0.        , 0.5619364 , 0.        ,\n",
       "       0.04711501, 0.        , 0.72592664, 0.13973594, 0.06261666,\n",
       "       0.        , 0.        , 0.        , 0.37321442, 0.        ,\n",
       "       0.        , 0.2922843 , 0.        , 0.1398437 , 0.16434775,\n",
       "       0.        , 0.        , 0.        , 0.32595098, 0.        ,\n",
       "       0.        , 0.        , 0.01067883, 0.        , 0.        ,\n",
       "       0.        , 0.32119745, 0.        , 0.        , 0.39403927,\n",
       "       0.15971845, 0.        , 0.        , 0.16323924, 0.09716745,\n",
       "       0.33236977, 0.48723087, 0.        , 0.        , 0.3191846 ,\n",
       "       0.        , 0.        , 0.        , 0.23924212, 0.32747945,\n",
       "       0.2902923 , 0.41042942, 0.        , 0.28943205, 0.        ,\n",
       "       0.02662483, 0.01556299, 0.        , 0.        , 0.        ,\n",
       "       0.18141127, 0.        , 0.        , 0.1058976 , 0.66259927,\n",
       "       0.13193826, 0.43589374, 0.        , 0.460497  , 0.17459883,\n",
       "       0.        , 0.08552087, 0.        , 0.1023292 , 0.        ,\n",
       "       0.        , 0.5180473 , 0.07650861, 0.        , 0.        ,\n",
       "       0.        , 0.        , 0.05391826, 0.        , 0.        ,\n",
       "       0.        , 0.24782561, 0.        , 0.21067384, 0.31345338,\n",
       "       0.        , 0.        , 0.        , 0.        , 0.        ,\n",
       "       0.46837294, 0.22027993, 0.        , 0.4713747 , 0.        ,\n",
       "       0.1287016 , 0.        , 0.6137021 , 0.19740634, 0.13165449,\n",
       "       0.13568817, 0.        , 0.        , 0.        , 0.5144331 ,\n",
       "       0.09110472, 0.        , 0.08614168, 0.37856436, 0.        ,\n",
       "       0.41359392, 0.        , 0.46901572, 0.        , 0.        ,\n",
       "       0.        , 0.        , 0.        , 0.        , 0.32986698,\n",
       "       0.14832902, 0.        , 0.        , 0.        , 0.        ,\n",
       "       0.6267171 , 0.        , 0.        , 0.26245636, 0.33203757,\n",
       "       0.        , 0.        , 0.        , 0.        , 0.4339908 ,\n",
       "       0.        , 0.20298262, 0.        , 0.        , 0.3646768 ,\n",
       "       0.11217387, 0.12763096, 0.06941729, 0.14766419, 0.        ,\n",
       "       0.36047915, 0.        , 0.        , 0.00485494, 0.        ,\n",
       "       0.        , 0.603906  , 0.4262766 , 0.        , 0.00941822,\n",
       "       0.25625265, 0.31007394, 0.        , 0.        , 0.        ,\n",
       "       0.        , 0.21731253, 0.        , 0.46505058, 0.        ,\n",
       "       0.25325194, 0.55533093, 0.87748116, 0.66551507, 0.5655125 ,\n",
       "       0.        , 0.6770653 , 0.15428403, 0.54215074, 0.00195311,\n",
       "       0.07554835, 0.        , 0.        , 0.25587088, 0.        ,\n",
       "       0.3189988 , 0.10350882, 0.        , 0.03277348, 0.47763187,\n",
       "       0.        , 0.4637613 , 0.        , 0.        , 0.00454361,\n",
       "       0.3599096 , 0.        , 0.        , 0.31276676, 0.        ,\n",
       "       0.20537335, 0.35887164, 0.42591223, 0.16874684, 0.8805162 ,\n",
       "       0.        , 0.        , 0.11198808, 0.        , 0.        ,\n",
       "       0.        , 0.        , 0.06362234, 0.        , 0.        ,\n",
       "       0.        , 0.        , 0.24404252, 0.        , 0.        ,\n",
       "       0.40805617, 0.        , 0.        , 0.58015466, 0.        ,\n",
       "       0.07936905, 0.12691455, 0.37444842, 0.04213463, 0.06920125,\n",
       "       0.        , 0.        , 0.5244097 , 0.19883706, 0.01293863,\n",
       "       0.1012212 , 0.        , 0.        , 0.        , 0.        ,\n",
       "       0.        , 0.12490498, 0.        , 0.38339242, 0.7362076 ,\n",
       "       0.        , 0.26580167, 0.4192082 , 0.        , 0.49641368,\n",
       "       0.17291746, 0.5245898 , 0.        , 0.02728377, 0.6064034 ,\n",
       "       0.1611368 , 0.        , 0.3270729 , 0.        , 0.        ,\n",
       "       0.3331168 , 0.15445465, 0.        , 0.        , 0.        ,\n",
       "       0.26227608, 0.        , 0.17035854, 0.35417897, 0.        ,\n",
       "       0.3912583 , 0.22895423, 0.        , 0.15130727, 0.12652077,\n",
       "       0.        , 0.        , 0.22502568, 0.        , 0.        ,\n",
       "       0.39911315, 0.        , 0.12001301, 0.        , 0.10387231,\n",
       "       0.        , 0.        , 0.        , 0.        , 0.        ,\n",
       "       0.        , 0.5093601 , 0.75278765, 0.        , 0.4335303 ,\n",
       "       0.67167175, 0.        , 0.23504585, 0.        , 0.        ,\n",
       "       0.        , 0.3727035 , 0.36055043, 0.        , 0.1019285 ,\n",
       "       0.        , 0.18492618, 0.        , 0.        , 0.        ,\n",
       "       0.        , 0.6548614 , 0.60274374, 0.31966445, 0.        ,\n",
       "       0.        , 0.04470914, 0.        , 0.22146225, 0.14493737,\n",
       "       0.30141097, 0.4806104 , 0.        , 0.18243158, 0.6341811 ,\n",
       "       0.        , 0.        , 0.        , 0.        , 0.        ,\n",
       "       0.        , 0.        , 0.        , 0.        , 0.        ,\n",
       "       0.54957426, 0.        , 0.        , 0.        , 0.47505334,\n",
       "       0.        , 0.        , 0.3805037 , 0.        , 0.        ,\n",
       "       0.18354315, 0.39056635, 0.36835486, 0.        , 0.        ,\n",
       "       0.19913289, 0.50264865, 0.3439209 , 0.44097817, 0.33786073,\n",
       "       0.        , 0.        , 0.        , 0.04954739, 0.3307826 ,\n",
       "       0.        , 0.04026527, 0.        , 0.        , 0.        ,\n",
       "       0.        , 0.38016582, 0.52509046, 0.1988246 , 0.37844062,\n",
       "       0.        , 0.22013259, 0.23938471, 0.09858582, 0.16566175,\n",
       "       0.        , 0.        , 0.        , 0.8240791 , 0.        ,\n",
       "       0.        , 0.        , 0.39617664, 0.15213232, 0.23079751,\n",
       "       0.        , 0.19773604, 0.08697015, 0.        , 0.        ,\n",
       "       0.5073554 , 0.40573734, 0.        , 0.58140135, 0.        ,\n",
       "       0.        , 0.4267329 , 0.        , 0.06815536, 0.98085195,\n",
       "       0.06646606, 0.29008874, 0.3659786 , 0.74449086, 0.04775575,\n",
       "       0.01585712, 0.16346222, 0.04357244, 0.21908525, 0.        ,\n",
       "       0.        , 0.        , 0.        , 0.        , 0.        ,\n",
       "       0.        , 0.44245377, 0.24706477, 0.00914035, 0.00514006,\n",
       "       0.        , 0.        , 0.        , 0.03584442, 0.        ,\n",
       "       0.43293133, 0.        , 0.01976758, 0.46813208, 0.07625673,\n",
       "       0.48405525, 0.        , 0.        , 0.        , 0.42022762,\n",
       "       0.36901242, 0.        , 0.09965028, 0.        , 0.        ,\n",
       "       0.        , 0.        , 0.5359799 , 0.        , 0.04549914,\n",
       "       0.09879542, 0.38014957, 0.4790965 , 0.4041177 , 0.24259512,\n",
       "       0.22594337, 0.6586377 , 0.2126302 , 0.        , 0.        ,\n",
       "       0.12365592, 0.        , 0.        , 0.5919077 , 0.        ,\n",
       "       0.5341168 , 0.48860428, 0.9999916 , 0.        , 0.6939082 ,\n",
       "       0.        , 0.53588593, 0.15331018, 0.16408649, 0.28602713],\n",
       "      dtype=float32)"
      ]
     },
     "execution_count": 24,
     "metadata": {},
     "output_type": "execute_result"
    }
   ],
   "source": [
    "visualization"
   ]
  },
  {
   "cell_type": "code",
   "execution_count": null,
   "metadata": {},
   "outputs": [],
   "source": []
  }
 ],
 "metadata": {
  "kernelspec": {
   "display_name": "exrna",
   "language": "python",
   "name": "exrna"
  },
  "language_info": {
   "codemirror_mode": {
    "name": "ipython",
    "version": 3
   },
   "file_extension": ".py",
   "mimetype": "text/x-python",
   "name": "python",
   "nbconvert_exporter": "python",
   "pygments_lexer": "ipython3",
   "version": "3.7.6"
  }
 },
 "nbformat": 4,
 "nbformat_minor": 2
}
